{
  "nbformat": 4,
  "nbformat_minor": 0,
  "metadata": {
    "colab": {
      "name": "linearRegression.ipynb",
      "provenance": [],
      "collapsed_sections": []
    },
    "kernelspec": {
      "name": "python3",
      "display_name": "Python 3"
    },
    "language_info": {
      "name": "python"
    }
  },
  "cells": [
    {
      "cell_type": "code",
      "metadata": {
        "colab": {
          "base_uri": "https://localhost:8080/"
        },
        "id": "3KB5x_U6-GxT",
        "outputId": "ae8006e5-0e64-4250-cd1c-a1bcb717fd6a"
      },
      "source": [
        "print (\"greetings i the sourvenom greets u\")"
      ],
      "execution_count": 120,
      "outputs": [
        {
          "output_type": "stream",
          "text": [
            "greetings i the sourvenom greets u\n"
          ],
          "name": "stdout"
        }
      ]
    },
    {
      "cell_type": "markdown",
      "metadata": {
        "id": "2--92-3jrtVq"
      },
      "source": [
        "importing all the libraries at once"
      ]
    },
    {
      "cell_type": "code",
      "metadata": {
        "id": "TFAjHirIDYuA"
      },
      "source": [
        "import pandas as pd\n",
        "import numpy as np\n",
        "from sklearn.linear_model import LinearRegression \n",
        "from sklearn.model_selection import train_test_split\n",
        "import matplotlib.pyplot as plt"
      ],
      "execution_count": 116,
      "outputs": []
    },
    {
      "cell_type": "markdown",
      "metadata": {
        "id": "CeD3uV2-sD0a"
      },
      "source": [
        "importing the data ofcourse"
      ]
    },
    {
      "cell_type": "code",
      "metadata": {
        "id": "9K3DonuvH0AZ"
      },
      "source": [
        "mydata = pd.read_csv('/salary_data.csv')\n",
        "mydata.head()"
      ],
      "execution_count": null,
      "outputs": []
    },
    {
      "cell_type": "code",
      "metadata": {
        "id": "GmfJFpOtYoDj"
      },
      "source": [
        "x = mydata.iloc[:, :-1].values\n",
        "y = mydata.iloc[:, 1].values\n",
        "\n",
        "x_train, x_test, y_train, y_test = train_test_split(x,y, test_size = 1/3 , random_state = 0)"
      ],
      "execution_count": 110,
      "outputs": []
    },
    {
      "cell_type": "code",
      "metadata": {
        "id": "EKgezRRoZ1cU"
      },
      "source": [
        "regmodel = LinearRegression ()\n",
        "regmodel.fit(x_train ,  y_train)"
      ],
      "execution_count": null,
      "outputs": []
    },
    {
      "cell_type": "code",
      "metadata": {
        "id": "WOHuwjCeayov"
      },
      "source": [
        "plt.scatter(x_train, y_train, color = 'red')\n",
        "plt.plot(x_train, regmodel.predict(x_train), color = 'blue')\n",
        "plt.title('Salary vs Experience (Training set)')\n",
        "plt.xlabel('Years of Experience')\n",
        "plt.ylabel('Salary')\n",
        "plt.show()"
      ],
      "execution_count": null,
      "outputs": []
    },
    {
      "cell_type": "code",
      "metadata": {
        "id": "QMFSfLVcbZOe"
      },
      "source": [
        "plt.scatter(x_test, y_test, color = 'red')\n",
        "plt.plot(x_train, regmodel.predict(x_train), color = 'blue')\n",
        "plt.title('Salary vs Experience (Test set)')\n",
        "plt.xlabel('Years of Experience')\n",
        "plt.ylabel('Salary')\n",
        "plt.show()"
      ],
      "execution_count": null,
      "outputs": []
    },
    {
      "cell_type": "code",
      "metadata": {
        "id": "l11fowrzn0rx"
      },
      "source": [
        "predy = regmodel.predict(x_test)\n",
        "print (predy)"
      ],
      "execution_count": null,
      "outputs": []
    },
    {
      "cell_type": "markdown",
      "metadata": {
        "id": "DKLSj02wrhQk"
      },
      "source": [
        ""
      ]
    }
  ]
}